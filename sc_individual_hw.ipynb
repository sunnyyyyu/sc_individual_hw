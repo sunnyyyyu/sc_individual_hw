{
 "cells": [
  {
   "cell_type": "code",
   "execution_count": 2,
   "id": "9c4f6b3a",
   "metadata": {},
   "outputs": [
    {
     "name": "stdout",
     "output_type": "stream",
     "text": [
      "Question 1: Independent Sourcing\n",
      "EOQ for each product: [148.32396974191326, 77.45966692414834, 64.54972243679029, 45.64354645876384]\n",
      "Total annual cost for each product: [1483.2396974191327, 929.51600308978, 387.2983346207417, 273.8612787525831]\n",
      "Sum of total annual costs: 3073.9153138822376\n",
      "\n",
      "Question 2: Joint Replenishment Strategy\n",
      "EOQ for joint replenishment: 228.47319317591726\n",
      "Total annual operational cost: 2284.7319317591728\n",
      "\n",
      "Question 3: Tailored Aggregation Strategy\n",
      "EOQ for high demand group: 183.84776310850236\n",
      "EOQ for low demand group: 86.60254037844386\n",
      "Total annual operational cost: 2358.0928733556866\n"
     ]
    }
   ],
   "source": [
    "import math\n",
    "\n",
    "# assign data information\n",
    "demand = [1000, 300, 100, 50]  # Demand for each product\n",
    "common_ordering_cost = 100\n",
    "specific_ordering_cost = [10, 20, 25, 25]\n",
    "unit_cost = [50, 60, 30, 30]\n",
    "holding_cost_rate = 0.2\n",
    "\n",
    "# define function to calculate EOQ\n",
    "def calculate_eoq(demand, ordering_cost, holding_cost_rate, unit_cost):\n",
    "    return math.sqrt((2 * demand * ordering_cost) / (unit_cost * holding_cost_rate))\n",
    "\n",
    "# define function to calculate total annual cost\n",
    "def calculate_total_annual_cost(eoq, demand, ordering_cost, holding_cost_rate, unit_cost):\n",
    "    annual_holding_cost = (eoq * unit_cost * holding_cost_rate) / 2\n",
    "    annual_ordering_cost = (demand * ordering_cost) / eoq\n",
    "    return annual_holding_cost + annual_ordering_cost\n",
    "\n",
    "# Question 1: Products are sourced independently\n",
    "eoq_independent = [calculate_eoq(demand[i], common_ordering_cost + specific_ordering_cost[i], holding_cost_rate, unit_cost[i]) for i in range(4)]\n",
    "total_annual_cost_independent = [calculate_total_annual_cost(eoq_independent[i], demand[i], common_ordering_cost + specific_ordering_cost[i], holding_cost_rate, unit_cost[i]) for i in range(4)]\n",
    "total_cost_independent = sum(total_annual_cost_independent)\n",
    "\n",
    "# Question 2: All four products are sourced with the same frequency (joint replenishment strategy)\n",
    "total_ordering_cost_joint = common_ordering_cost + sum(specific_ordering_cost)\n",
    "aggregate_demand = sum(demand)\n",
    "eoq_joint = calculate_eoq(aggregate_demand, total_ordering_cost_joint, holding_cost_rate, unit_cost[0])\n",
    "total_annual_cost_joint = calculate_total_annual_cost(eoq_joint, aggregate_demand, total_ordering_cost_joint, holding_cost_rate, unit_cost[0])\n",
    "\n",
    "# Question 3: Tailored aggregation strategy\n",
    "# Grouping high demand (Products 1 and 2) and low demand (Products 3 and 4)\n",
    "high_demand = demand[:2]\n",
    "high_demand_ordering_cost = common_ordering_cost + sum(specific_ordering_cost[:2])\n",
    "aggregate_demand_high = sum(high_demand)\n",
    "eoq_high = calculate_eoq(aggregate_demand_high, high_demand_ordering_cost, holding_cost_rate, unit_cost[0])\n",
    "\n",
    "low_demand = demand[2:]\n",
    "low_demand_ordering_cost = common_ordering_cost + sum(specific_ordering_cost[2:])\n",
    "aggregate_demand_low = sum(low_demand)\n",
    "eoq_low = calculate_eoq(aggregate_demand_low, low_demand_ordering_cost, holding_cost_rate, unit_cost[2])\n",
    "\n",
    "total_annual_cost_tailored = calculate_total_annual_cost(eoq_high, aggregate_demand_high, high_demand_ordering_cost, holding_cost_rate, unit_cost[0]) + calculate_total_annual_cost(eoq_low, aggregate_demand_low, low_demand_ordering_cost, holding_cost_rate, unit_cost[2])\n",
    "\n",
    "# Print results for Question 1, 2 and 3\n",
    "print(\"Question 1: Independent Sourcing\")\n",
    "print(\"EOQ for each product:\", eoq_independent)\n",
    "print(\"Total annual cost for each product:\", total_annual_cost_independent)\n",
    "print(\"Sum of total annual costs:\", total_cost_independent)\n",
    "\n",
    "print(\"\\nQuestion 2: Joint Replenishment Strategy\")\n",
    "print(\"EOQ for joint replenishment:\", eoq_joint)\n",
    "print(\"Total annual operational cost:\", total_annual_cost_joint)\n",
    "\n",
    "print(\"\\nQuestion 3: Tailored Aggregation Strategy\")\n",
    "print(\"EOQ for high demand group:\", eoq_high)\n",
    "print(\"EOQ for low demand group:\", eoq_low)\n",
    "print(\"Total annual operational cost:\", total_annual_cost_tailored)\n"
   ]
  },
  {
   "cell_type": "code",
   "execution_count": null,
   "id": "958b32c2",
   "metadata": {},
   "outputs": [],
   "source": []
  }
 ],
 "metadata": {
  "kernelspec": {
   "display_name": "Python 3 (ipykernel)",
   "language": "python",
   "name": "python3"
  },
  "language_info": {
   "codemirror_mode": {
    "name": "ipython",
    "version": 3
   },
   "file_extension": ".py",
   "mimetype": "text/x-python",
   "name": "python",
   "nbconvert_exporter": "python",
   "pygments_lexer": "ipython3",
   "version": "3.10.13"
  }
 },
 "nbformat": 4,
 "nbformat_minor": 5
}
